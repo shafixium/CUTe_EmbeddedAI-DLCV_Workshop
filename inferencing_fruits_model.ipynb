{
 "cells": [
  {
   "cell_type": "code",
   "execution_count": 1,
   "id": "e02256b6",
   "metadata": {},
   "outputs": [],
   "source": [
    "import torch\n",
    "import torchvision\n",
    "import torchvision.transforms as transforms\n",
    "import PIL.Image as Image"
   ]
  },
  {
   "cell_type": "code",
   "execution_count": 2,
   "id": "949c0a41",
   "metadata": {},
   "outputs": [],
   "source": [
    "classes=('durian','pumpkin', 'tomato','watermelon')"
   ]
  },
  {
   "cell_type": "code",
   "execution_count": 38,
   "id": "145d5982",
   "metadata": {},
   "outputs": [],
   "source": [
    "model= torch.load('fruits dataset_model.pt')"
   ]
  },
  {
   "cell_type": "code",
   "execution_count": 39,
   "id": "ab9e3cd6",
   "metadata": {},
   "outputs": [],
   "source": [
    "image_transforms=transforms.Compose([\n",
    "    transforms.Resize((256,256)),\n",
    "    transforms.ToTensor(),\n",
    "    transforms.Normalize([0.485, 0.456, 0.406],\n",
    "                         [0.229, 0.224, 0.225])\n",
    "])"
   ]
  },
  {
   "cell_type": "code",
   "execution_count": 36,
   "id": "0631779f",
   "metadata": {},
   "outputs": [],
   "source": [
    "def classify(model, image_transforms, image_path, classes):\n",
    "    model = model.eval()\n",
    "    image = Image.open(image_path)\n",
    "    image = image_transforms(image).float()\n",
    "    image = image.unsqueeze(0)\n",
    "    output= model(image)\n",
    "    _, predicted = torch.max(output.data,1)\n",
    "    print(classes[predicted.item()])"
   ]
  },
  {
   "cell_type": "code",
   "execution_count": 37,
   "id": "84254071",
   "metadata": {},
   "outputs": [
    {
     "ename": "AttributeError",
     "evalue": "'collections.OrderedDict' object has no attribute 'to'",
     "output_type": "error",
     "traceback": [
      "\u001b[1;31m---------------------------------------------------------------------------\u001b[0m",
      "\u001b[1;31mAttributeError\u001b[0m                            Traceback (most recent call last)",
      "Input \u001b[1;32mIn [37]\u001b[0m, in \u001b[0;36m<cell line: 1>\u001b[1;34m()\u001b[0m\n\u001b[1;32m----> 1\u001b[0m \u001b[43mmodel\u001b[49m\u001b[38;5;241;43m.\u001b[39;49m\u001b[43mto\u001b[49m(\u001b[38;5;124m'\u001b[39m\u001b[38;5;124mcpu\u001b[39m\u001b[38;5;124m'\u001b[39m)\n",
      "\u001b[1;31mAttributeError\u001b[0m: 'collections.OrderedDict' object has no attribute 'to'"
     ]
    }
   ],
   "source": [
    "model.to('cpu')"
   ]
  },
  {
   "cell_type": "code",
   "execution_count": 33,
   "id": "b6fcc95c",
   "metadata": {},
   "outputs": [
    {
     "name": "stdout",
     "output_type": "stream",
     "text": [
      "durian\n"
     ]
    }
   ],
   "source": [
    "classify(model, image_transforms, 'half-cut-durian-fruit-durian-fruit-regarded-many-people-southeast-asia-as-king-fruits-121088687.jpg', classes)"
   ]
  },
  {
   "cell_type": "code",
   "execution_count": null,
   "id": "4054c582",
   "metadata": {},
   "outputs": [],
   "source": []
  }
 ],
 "metadata": {
  "kernelspec": {
   "display_name": "Python 3 (ipykernel)",
   "language": "python",
   "name": "python3"
  },
  "language_info": {
   "codemirror_mode": {
    "name": "ipython",
    "version": 3
   },
   "file_extension": ".py",
   "mimetype": "text/x-python",
   "name": "python",
   "nbconvert_exporter": "python",
   "pygments_lexer": "ipython3",
   "version": "3.9.13"
  }
 },
 "nbformat": 4,
 "nbformat_minor": 5
}
